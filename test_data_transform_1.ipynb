{
 "cells": [
  {
   "cell_type": "code",
   "execution_count": 1,
   "metadata": {},
   "outputs": [],
   "source": [
    "import pandas as pd\n",
    "import numpy as np\n",
    "import os\n",
    "from datetime import datetime, date\n",
    "import time"
   ]
  },
  {
   "cell_type": "code",
   "execution_count": 15,
   "metadata": {},
   "outputs": [
    {
     "data": {
      "text/html": [
       "<div>\n",
       "<style scoped>\n",
       "    .dataframe tbody tr th:only-of-type {\n",
       "        vertical-align: middle;\n",
       "    }\n",
       "\n",
       "    .dataframe tbody tr th {\n",
       "        vertical-align: top;\n",
       "    }\n",
       "\n",
       "    .dataframe thead th {\n",
       "        text-align: right;\n",
       "    }\n",
       "</style>\n",
       "<table border=\"1\" class=\"dataframe\">\n",
       "  <thead>\n",
       "    <tr style=\"text-align: right;\">\n",
       "      <th></th>\n",
       "      <th>Timestamp</th>\n",
       "      <th>Open</th>\n",
       "      <th>High</th>\n",
       "      <th>Low</th>\n",
       "      <th>Close</th>\n",
       "      <th>Volume</th>\n",
       "    </tr>\n",
       "  </thead>\n",
       "  <tbody>\n",
       "    <tr>\n",
       "      <th>0</th>\n",
       "      <td>2012-01-03</td>\n",
       "      <td>31.799999</td>\n",
       "      <td>32.000000</td>\n",
       "      <td>31.559999</td>\n",
       "      <td>30.204050</td>\n",
       "      <td>11726370.0</td>\n",
       "    </tr>\n",
       "    <tr>\n",
       "      <th>1</th>\n",
       "      <td>2012-01-04</td>\n",
       "      <td>32.000000</td>\n",
       "      <td>32.000000</td>\n",
       "      <td>31.600000</td>\n",
       "      <td>30.166059</td>\n",
       "      <td>9270400.0</td>\n",
       "    </tr>\n",
       "    <tr>\n",
       "      <th>2</th>\n",
       "      <td>2012-01-05</td>\n",
       "      <td>31.799999</td>\n",
       "      <td>31.959999</td>\n",
       "      <td>31.360001</td>\n",
       "      <td>29.900114</td>\n",
       "      <td>15810575.0</td>\n",
       "    </tr>\n",
       "    <tr>\n",
       "      <th>3</th>\n",
       "      <td>2012-01-06</td>\n",
       "      <td>30.920000</td>\n",
       "      <td>31.500000</td>\n",
       "      <td>30.780001</td>\n",
       "      <td>29.349222</td>\n",
       "      <td>15174110.0</td>\n",
       "    </tr>\n",
       "    <tr>\n",
       "      <th>4</th>\n",
       "      <td>2012-01-09</td>\n",
       "      <td>30.920000</td>\n",
       "      <td>31.180000</td>\n",
       "      <td>30.059999</td>\n",
       "      <td>29.482199</td>\n",
       "      <td>14090720.0</td>\n",
       "    </tr>\n",
       "    <tr>\n",
       "      <th>...</th>\n",
       "      <td>...</td>\n",
       "      <td>...</td>\n",
       "      <td>...</td>\n",
       "      <td>...</td>\n",
       "      <td>...</td>\n",
       "      <td>...</td>\n",
       "    </tr>\n",
       "    <tr>\n",
       "      <th>1473</th>\n",
       "      <td>2017-12-22</td>\n",
       "      <td>403.799988</td>\n",
       "      <td>405.799988</td>\n",
       "      <td>400.799988</td>\n",
       "      <td>402.698151</td>\n",
       "      <td>16146080.0</td>\n",
       "    </tr>\n",
       "    <tr>\n",
       "      <th>1474</th>\n",
       "      <td>2017-12-27</td>\n",
       "      <td>407.799988</td>\n",
       "      <td>407.799988</td>\n",
       "      <td>401.000000</td>\n",
       "      <td>398.133331</td>\n",
       "      <td>16680601.0</td>\n",
       "    </tr>\n",
       "    <tr>\n",
       "      <th>1475</th>\n",
       "      <td>2017-12-28</td>\n",
       "      <td>404.000000</td>\n",
       "      <td>408.200012</td>\n",
       "      <td>402.200012</td>\n",
       "      <td>405.079834</td>\n",
       "      <td>11662053.0</td>\n",
       "    </tr>\n",
       "    <tr>\n",
       "      <th>1476</th>\n",
       "      <td>2017-12-29</td>\n",
       "      <td>408.000000</td>\n",
       "      <td>408.000000</td>\n",
       "      <td>403.399994</td>\n",
       "      <td>402.896637</td>\n",
       "      <td>16601658.0</td>\n",
       "    </tr>\n",
       "    <tr>\n",
       "      <th>1477</th>\n",
       "      <td>2018-01-02</td>\n",
       "      <td>408.000000</td>\n",
       "      <td>418.000000</td>\n",
       "      <td>407.600006</td>\n",
       "      <td>414.606445</td>\n",
       "      <td>24080505.0</td>\n",
       "    </tr>\n",
       "  </tbody>\n",
       "</table>\n",
       "<p>1472 rows × 6 columns</p>\n",
       "</div>"
      ],
      "text/plain": [
       "       Timestamp        Open        High         Low       Close      Volume\n",
       "0     2012-01-03   31.799999   32.000000   31.559999   30.204050  11726370.0\n",
       "1     2012-01-04   32.000000   32.000000   31.600000   30.166059   9270400.0\n",
       "2     2012-01-05   31.799999   31.959999   31.360001   29.900114  15810575.0\n",
       "3     2012-01-06   30.920000   31.500000   30.780001   29.349222  15174110.0\n",
       "4     2012-01-09   30.920000   31.180000   30.059999   29.482199  14090720.0\n",
       "...          ...         ...         ...         ...         ...         ...\n",
       "1473  2017-12-22  403.799988  405.799988  400.799988  402.698151  16146080.0\n",
       "1474  2017-12-27  407.799988  407.799988  401.000000  398.133331  16680601.0\n",
       "1475  2017-12-28  404.000000  408.200012  402.200012  405.079834  11662053.0\n",
       "1476  2017-12-29  408.000000  408.000000  403.399994  402.896637  16601658.0\n",
       "1477  2018-01-02  408.000000  418.000000  407.600006  414.606445  24080505.0\n",
       "\n",
       "[1472 rows x 6 columns]"
      ]
     },
     "execution_count": 15,
     "metadata": {},
     "output_type": "execute_result"
    }
   ],
   "source": [
    "# We have 60 CSV files\n",
    "#    30 tickers, 1 file containing 2012 to 2018, 1 file containing 2018 to 2020\n",
    "raw_data_dir = 'main/data_raw'\n",
    "# raw_train_data = [pd.read_csv(f'{raw_data_dir}/{i}') for i in os.listdir(raw_data_dir) if '2012' in i]\n",
    "# raw_test_data = [pd.read_csv(f'{raw_data_dir}/{i}') for i in os.listdir(raw_data_dir) if '2020' in i]\n",
    "\n",
    "# intermediate_train_data = []\n",
    "# intermediate_test_data = []\n",
    "\n",
    "train_fnames = [f'{raw_data_dir}/{i}' for i in os.listdir(raw_data_dir) if '2012' in i]\n",
    "test_fnames = [f'{raw_data_dir}/{i}' for i in os.listdir(raw_data_dir) if '2020' in i]\n",
    "train_data = pd.read_csv(train_fnames[0])\n",
    "train_data = train_data[train_data.Volume != 0]\n",
    "test_data = pd.read_csv(test_fnames[0])\n",
    "test_data = test_data[test_data.Volume != 0]\n",
    "\n",
    "train_data"
   ]
  },
  {
   "cell_type": "code",
   "execution_count": 27,
   "metadata": {},
   "outputs": [
    {
     "name": "stdout",
     "output_type": "stream",
     "text": [
      "(0.07950109126645183, 0.7917697265147592)\n",
      "(0.07685819971967213, 0.737708158963716)\n",
      "(0.1052682725950916, 0.38838897484714774)\n",
      "(0.05795519692557605, 0.06483490041429785)\n",
      "(-0.15454483032226204, 0.1758236989080736)\n"
     ]
    },
    {
     "name": "stderr",
     "output_type": "stream",
     "text": [
      "C:\\Users\\calvi\\AppData\\Local\\Temp\\ipykernel_8580\\2817384411.py:10: FutureWarning: The behavior of `series[i:j]` with an integer-dtype index is deprecated. In a future version, this will be treated as *label-based* indexing, consistent with e.g. `series[i]` lookups. To retain the old behavior, use `series.iloc[i:j]`. To get the future behavior, use `series.loc[i:j]`.\n",
      "  train_data.Close[:180]\n"
     ]
    }
   ],
   "source": [
    "def get_lobf(ys: pd.DataFrame):\n",
    "    xs = np.arange(ys.shape[0])\n",
    "    m = (xs.mean()*ys.mean() - (xs*ys).mean())/(xs.mean()*xs.mean() - (xs*xs).mean())\n",
    "    b = ys.mean() - m*xs.mean()\n",
    "    reg_line = [m*x+b for x in xs]\n",
    "    y_bar = ys.mean()\n",
    "    r2 = 1 - sum((ys[i]-reg_line[i])**2 for i in range(len(ys)))/sum((y-y_bar)**2 for y in ys)\n",
    "    return m, r2 if not np.isnan(r2) else 0"
   ]
  },
  {
   "cell_type": "code",
   "execution_count": 28,
   "metadata": {
    "scrolled": true
   },
   "outputs": [
    {
     "name": "stdout",
     "output_type": "stream",
     "text": [
      "1371\r"
     ]
    },
    {
     "name": "stderr",
     "output_type": "stream",
     "text": [
      "C:\\Users\\calvi\\AppData\\Local\\Temp\\ipykernel_8580\\2817384411.py:7: RuntimeWarning: invalid value encountered in double_scalars\n",
      "  r2 = 1 - sum((ys[i]-reg_line[i])**2 for i in range(len(ys)))/sum((y-y_bar)**2 for y in ys)\n"
     ]
    },
    {
     "name": "stdout",
     "output_type": "stream",
     "text": [
      "1470\r"
     ]
    }
   ],
   "source": [
    "\n",
    "history = 180\n",
    "bins = [180, 90, 30, 7, 3]\n",
    "res = []\n",
    "\n",
    "\n",
    "for i in range(180, train_data.shape[0]-1):\n",
    "    print(f'{i}\\r', end='')\n",
    "    train_temp = train_data[['Close', 'Volume']][i-history:i]\n",
    "\n",
    "    close_slope_and_r2 = [get_lobf(train_temp.Close.values[-j:]) for j in bins]\n",
    "    close_slope = [i[0] for i in close_slope_and_r2]\n",
    "    close_r2 = [i[1] for i in close_slope_and_r2]\n",
    "    vol_slope_and_r2 = [get_lobf(train_temp.Volume.values[-j:]) for j in bins]\n",
    "    vol_slope = [i[0] for i in vol_slope_and_r2]\n",
    "    vol_r2 = [i[1] for i in vol_slope_and_r2]\n",
    "\n",
    "    close_today = [train_data.Close.values[i]]\n",
    "\n",
    "    close_change_tomorrow = [train_data.Close.values[i+1]]\n",
    "\n",
    "    total_row = close_slope + close_r2 + vol_slope + vol_r2 + close_today + close_change_tomorrow\n",
    "    res.append(total_row)\n",
    "\n",
    "output = pd.DataFrame(res, columns = ['close-slope-180', 'close-slope-90', 'close-slope-30', 'close-slope-7', 'close-slope-3',\n",
    "                            'close-r2-180', 'close-r2-90', 'close-r2-30', 'close-r2-7', 'close-r2-3',\n",
    "                            'vol-slope-180', 'vol-slope-90', 'vol-slope-30', 'vol-slope-7', 'vol-slope-3',\n",
    "                            'vol-r2-180', 'vol-r2-90', 'vol-r2-30', 'vol-r2-7', 'vol-r2-3',\n",
    "                            'close_today', 'close_tomorrow'\n",
    "                            ])"
   ]
  },
  {
   "cell_type": "code",
   "execution_count": 30,
   "metadata": {},
   "outputs": [],
   "source": [
    "output.to_csv('asdf.csv')"
   ]
  },
  {
   "cell_type": "code",
   "execution_count": 31,
   "metadata": {},
   "outputs": [],
   "source": [
    "from sklearn.decomposition import PCA"
   ]
  },
  {
   "cell_type": "code",
   "execution_count": 36,
   "metadata": {},
   "outputs": [
    {
     "name": "stdout",
     "output_type": "stream",
     "text": [
      "                      PC0       PC1       PC2       PC3       PC4       PC5  \\\n",
      "close-slope-180  0.422540  0.120212 -0.060153  0.113268 -0.101696 -0.088670   \n",
      "close-slope-90   0.422418  0.078991 -0.075070  0.044135 -0.084791  0.003029   \n",
      "close-slope-30   0.300979 -0.160160  0.029084 -0.231690  0.236185  0.217659   \n",
      "close-slope-7    0.129404 -0.301162  0.491326 -0.055936 -0.106937  0.061845   \n",
      "close-slope-3    0.076958 -0.231485  0.478227 -0.020514 -0.187343  0.056984   \n",
      "close-r2-180     0.247589  0.232870 -0.270732  0.169975 -0.310565 -0.009649   \n",
      "close-r2-90      0.303087 -0.026596 -0.231859  0.063578 -0.118488 -0.025079   \n",
      "close-r2-30      0.068413 -0.042289 -0.087458 -0.486752  0.235128  0.437860   \n",
      "close-r2-7      -0.002779 -0.176487  0.222033  0.405791  0.055055 -0.031931   \n",
      "close-r2-3      -0.018051 -0.049445  0.080739  0.195368 -0.155120  0.204995   \n",
      "vol-slope-180    0.105525  0.341840  0.372218 -0.072033 -0.080145  0.214135   \n",
      "vol-slope-90     0.024221  0.457928  0.301578  0.069976  0.236359 -0.001981   \n",
      "vol-slope-30     0.076762  0.196604 -0.088466 -0.027452  0.470355  0.112123   \n",
      "vol-slope-7      0.005070 -0.156464 -0.078191  0.463293  0.161691  0.434381   \n",
      "vol-slope-3     -0.003573 -0.105670 -0.142477  0.357338  0.053388  0.466630   \n",
      "vol-r2-180      -0.057941  0.395561  0.144887  0.118307 -0.151465  0.065670   \n",
      "vol-r2-90        0.014767  0.354019  0.089560 -0.078888 -0.221703  0.342837   \n",
      "vol-r2-30        0.021583  0.140218  0.131847  0.226423  0.515991 -0.256944   \n",
      "vol-r2-7        -0.020903  0.016879  0.082442  0.150483  0.122073 -0.014566   \n",
      "vol-r2-3        -0.001453 -0.027226 -0.047707 -0.089361 -0.048418  0.168289   \n",
      "close_today      0.418202 -0.088792  0.071589  0.001681  0.098295 -0.102176   \n",
      "close_tomorrow   0.417810 -0.088519  0.070344  0.002477  0.097560 -0.102435   \n",
      "\n",
      "                      PC6       PC7       PC8       PC9  ...      PC12  \\\n",
      "close-slope-180 -0.024151 -0.008863  0.045515 -0.065029  ...  0.062659   \n",
      "close-slope-90  -0.000386 -0.009725 -0.021534  0.002733  ... -0.064919   \n",
      "close-slope-30  -0.156013 -0.040708  0.036221  0.026176  ... -0.195379   \n",
      "close-slope-7    0.090329  0.149673 -0.194456  0.019518  ...  0.019961   \n",
      "close-slope-3    0.244925  0.174599 -0.143640  0.195596  ...  0.370672   \n",
      "close-r2-180     0.049405  0.266363 -0.220661  0.096498  ...  0.036028   \n",
      "close-r2-90      0.159455  0.174884 -0.190266  0.131247  ... -0.062111   \n",
      "close-r2-30     -0.085680  0.083119 -0.092737 -0.053889  ... -0.164645   \n",
      "close-r2-7      -0.355641  0.316552 -0.131162 -0.232324  ... -0.489081   \n",
      "close-r2-3       0.289898 -0.014419  0.579450  0.467727  ... -0.465174   \n",
      "vol-slope-180   -0.155755 -0.231192 -0.010994  0.017868  ... -0.004611   \n",
      "vol-slope-90    -0.027933  0.002473  0.012027 -0.020497  ...  0.038540   \n",
      "vol-slope-30     0.293384  0.359362 -0.174427  0.201124  ... -0.031312   \n",
      "vol-slope-7     -0.250264  0.129480 -0.069438  0.051905  ...  0.191948   \n",
      "vol-slope-3      0.140379 -0.427951 -0.033561 -0.092441  ...  0.269877   \n",
      "vol-r2-180      -0.167580  0.069837  0.098908 -0.217344  ... -0.020494   \n",
      "vol-r2-90        0.092451  0.040432 -0.088515  0.042949  ... -0.056682   \n",
      "vol-r2-30        0.054120  0.062593  0.146597  0.225344  ...  0.199700   \n",
      "vol-r2-7         0.638116 -0.164688 -0.206514 -0.503943  ... -0.301418   \n",
      "vol-r2-3         0.138057  0.507986  0.548383 -0.469568  ...  0.280499   \n",
      "close_today     -0.030325 -0.169932  0.189073 -0.117257  ...  0.037788   \n",
      "close_tomorrow  -0.031899 -0.171597  0.190741 -0.117307  ...  0.037449   \n",
      "\n",
      "                     PC13      PC14      PC15      PC16      PC17      PC18  \\\n",
      "close-slope-180 -0.053507  0.324084  0.112917  0.059991 -0.068286  0.036947   \n",
      "close-slope-90   0.019860 -0.169882 -0.053843 -0.174117  0.099823 -0.014343   \n",
      "close-slope-30   0.312143 -0.080519 -0.032884 -0.403449  0.243246  0.519072   \n",
      "close-slope-7    0.195547  0.101631 -0.368619 -0.066365 -0.603810 -0.011119   \n",
      "close-slope-3   -0.106415 -0.047095  0.289638  0.055317  0.503535  0.029796   \n",
      "close-r2-180     0.163765  0.447276  0.123451  0.040466 -0.046020  0.201108   \n",
      "close-r2-90      0.164577 -0.603447 -0.102631  0.107626  0.018749 -0.345462   \n",
      "close-r2-30      0.112588  0.139323  0.270833  0.384593 -0.043672 -0.281942   \n",
      "close-r2-7      -0.026498  0.107588 -0.143236  0.257077  0.318971 -0.064517   \n",
      "close-r2-3      -0.041023  0.052708  0.064088  0.017274 -0.056075 -0.020297   \n",
      "vol-slope-180   -0.024979  0.205766  0.071390 -0.261636  0.082643 -0.417449   \n",
      "vol-slope-90    -0.250081 -0.251462 -0.038926  0.302755 -0.128315  0.403285   \n",
      "vol-slope-30    -0.405333  0.163683 -0.318721 -0.256414  0.081976 -0.134677   \n",
      "vol-slope-7     -0.153370 -0.181264  0.444908 -0.187392 -0.333774  0.027128   \n",
      "vol-slope-3      0.112568  0.129392 -0.445953  0.163827  0.211185 -0.022503   \n",
      "vol-r2-180       0.184855 -0.181238 -0.046834 -0.320369  0.045500 -0.217179   \n",
      "vol-r2-90        0.144119 -0.162461 -0.070936  0.321780 -0.019784  0.227087   \n",
      "vol-r2-30        0.617422  0.079055  0.110708  0.139706  0.016173 -0.132079   \n",
      "vol-r2-7         0.082025 -0.004060  0.325706 -0.119988 -0.053819  0.031799   \n",
      "vol-r2-3         0.055097  0.009419 -0.094339 -0.010596  0.031208  0.001000   \n",
      "close_today     -0.187534 -0.027401  0.012496  0.141042 -0.056090 -0.071291   \n",
      "close_tomorrow  -0.189852 -0.028292  0.010835  0.142876 -0.055216 -0.074636   \n",
      "\n",
      "                     PC19      PC20      PC21  \n",
      "close-slope-180  0.206446  0.761575 -0.000051  \n",
      "close-slope-90  -0.846959  0.073450 -0.000604  \n",
      "close-slope-30   0.240955 -0.008129 -0.001877  \n",
      "close-slope-7   -0.047513  0.013361 -0.001554  \n",
      "close-slope-3   -0.001220  0.008937 -0.001263  \n",
      "close-r2-180     0.056736 -0.472638 -0.001327  \n",
      "close-r2-90      0.318182  0.052871  0.001393  \n",
      "close-r2-30     -0.121733  0.019417 -0.000443  \n",
      "close-r2-7      -0.009917  0.008917  0.000926  \n",
      "close-r2-3       0.000752  0.000256  0.000418  \n",
      "vol-slope-180    0.089710 -0.075555  0.001570  \n",
      "vol-slope-90    -0.032191  0.002559 -0.000222  \n",
      "vol-slope-30     0.060240 -0.000311 -0.000276  \n",
      "vol-slope-7     -0.005441 -0.002423 -0.000462  \n",
      "vol-slope-3     -0.004645  0.003165  0.000955  \n",
      "vol-r2-180       0.112867 -0.051669 -0.000696  \n",
      "vol-r2-90        0.032837  0.040467 -0.000259  \n",
      "vol-r2-30       -0.079796 -0.003928 -0.000888  \n",
      "vol-r2-7         0.007185 -0.014791 -0.001419  \n",
      "vol-r2-3        -0.024429 -0.003601  0.000241  \n",
      "close_today      0.115074 -0.297853  0.707853  \n",
      "close_tomorrow   0.116217 -0.297732 -0.706346  \n",
      "\n",
      "[22 rows x 22 columns]\n"
     ]
    }
   ],
   "source": [
    "\n",
    "output_norm = (output - output.mean())/output.std()\n",
    "pca = PCA(n_components=output_norm.shape[1])\n",
    "pca.fit(output_norm)\n",
    "\n",
    "loadings = pd.DataFrame(pca.components_.T,\n",
    "columns=['PC%s' % _ for _ in range(len(output_norm.columns))],\n",
    "index=output.columns)\n",
    "print(loadings)\n"
   ]
  },
  {
   "cell_type": "code",
   "execution_count": 35,
   "metadata": {},
   "outputs": [
    {
     "data": {
      "text/plain": [
       "{'copy': True,\n",
       " 'iterated_power': 'auto',\n",
       " 'n_components': 5,\n",
       " 'n_oversamples': 10,\n",
       " 'power_iteration_normalizer': 'auto',\n",
       " 'random_state': None,\n",
       " 'svd_solver': 'auto',\n",
       " 'tol': 0.0,\n",
       " 'whiten': False}"
      ]
     },
     "execution_count": 35,
     "metadata": {},
     "output_type": "execute_result"
    }
   ],
   "source": [
    "pca."
   ]
  }
 ],
 "metadata": {
  "kernelspec": {
   "display_name": "Python 3 (ipykernel)",
   "language": "python",
   "name": "python3"
  },
  "language_info": {
   "codemirror_mode": {
    "name": "ipython",
    "version": 3
   },
   "file_extension": ".py",
   "mimetype": "text/x-python",
   "name": "python",
   "nbconvert_exporter": "python",
   "pygments_lexer": "ipython3",
   "version": "3.8.5"
  },
  "vscode": {
   "interpreter": {
    "hash": "cc67dadc1e89023cef0186b405f7cb3d6eb430c837556b1a0509dbbf856b605d"
   }
  }
 },
 "nbformat": 4,
 "nbformat_minor": 2
}
