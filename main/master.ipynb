{
 "cells": [
  {
   "cell_type": "markdown",
   "metadata": {},
   "source": [
    "### Master Execution notebook"
   ]
  },
  {
   "cell_type": "code",
   "execution_count": 1,
   "metadata": {},
   "outputs": [],
   "source": [
    "### Configuration cell\n",
    "\n",
    "import data_transform\n",
    "import os"
   ]
  },
  {
   "cell_type": "code",
   "execution_count": 4,
   "metadata": {},
   "outputs": [
    {
     "name": "stdout",
     "output_type": "stream",
     "text": [
      "Processing training data:\n",
      "10/10\r"
     ]
    }
   ],
   "source": [
    "### Data Transform cell\n",
    "\n",
    "raw_data_dir = 'data_raw'\n",
    "output_dir = 'data_final'\n",
    "\n",
    "train_fnames = [f'{raw_data_dir}/{i}' for i in os.listdir(raw_data_dir) if '2012' in i][:10]\n",
    "test_fnames = [f'{raw_data_dir}/{i}' for i in os.listdir(raw_data_dir) if '2020' in i][:10]\n",
    "\n",
    "print('Processing training data:')\n",
    "train_df = data_transform.clean_files(train_fnames)\n",
    "data_transform.save_data(train_df, f'{output_dir}/train_data.csv')\n",
    "\n",
    "print('Processing test data:')\n",
    "test_df = data_transform.clean_files(test_fnames)\n",
    "data_transform.save_data(test_df, f'{output_dir}/test_data.csv')\n",
    "\n",
    "print('Complete')\n",
    "\n"
   ]
  },
  {
   "cell_type": "code",
   "execution_count": null,
   "metadata": {},
   "outputs": [],
   "source": [
    "### Training cell\n",
    "\n",
    "# Call to training scripts"
   ]
  },
  {
   "cell_type": "code",
   "execution_count": null,
   "metadata": {},
   "outputs": [],
   "source": [
    "### Validation cell\n",
    "\n",
    "# Call to validation scripts"
   ]
  },
  {
   "cell_type": "code",
   "execution_count": null,
   "metadata": {},
   "outputs": [],
   "source": [
    "### Display cell\n",
    "\n",
    "# Visualization and results code"
   ]
  }
 ],
 "metadata": {
  "kernelspec": {
   "display_name": "Python 3.8.5 ('env': venv)",
   "language": "python",
   "name": "python3"
  },
  "language_info": {
   "codemirror_mode": {
    "name": "ipython",
    "version": 3
   },
   "file_extension": ".py",
   "mimetype": "text/x-python",
   "name": "python",
   "nbconvert_exporter": "python",
   "pygments_lexer": "ipython3",
   "version": "3.8.5"
  },
  "orig_nbformat": 4,
  "vscode": {
   "interpreter": {
    "hash": "cc67dadc1e89023cef0186b405f7cb3d6eb430c837556b1a0509dbbf856b605d"
   }
  }
 },
 "nbformat": 4,
 "nbformat_minor": 2
}
